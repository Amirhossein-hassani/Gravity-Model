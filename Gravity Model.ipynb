{
 "cells": [
  {
   "cell_type": "markdown",
   "metadata": {},
   "source": [
    "# HW6"
   ]
  },
  {
   "cell_type": "markdown",
   "metadata": {},
   "source": [
    "Amirhossein hassni - 99103803"
   ]
  },
  {
   "cell_type": "markdown",
   "metadata": {},
   "source": [
    "Importing Libraries:"
   ]
  },
  {
   "cell_type": "code",
   "execution_count": 2,
   "metadata": {},
   "outputs": [],
   "source": [
    "import pandas as pd\n",
    "import numpy as np\n",
    "from math import exp, log\n",
    "import matplotlib.pyplot as plt"
   ]
  },
  {
   "cell_type": "markdown",
   "metadata": {},
   "source": [
    "cost_matrix represents the cost of transportation between origins and destinations. The value X represents infinite cost, indicating infeasible connections."
   ]
  },
  {
   "cell_type": "code",
   "execution_count": 3,
   "metadata": {},
   "outputs": [],
   "source": [
    "X = float('inf')\n",
    "\n",
    "cost_matrix = np.array([\n",
    "    [X, X, 50, X, X],\n",
    "    [X, X, 60, X, X],\n",
    "    [X, X, X, 30, X],\n",
    "    [20, X, 80, X, 20],\n",
    "    [X, 70, 90, 10, X]\n",
    "   \n",
    "])\n",
    "\n",
    "cost_matrix = cost_matrix.astype(float)"
   ]
  },
  {
   "cell_type": "markdown",
   "metadata": {},
   "source": [
    "origins and destinations vectors representing the supply (origins) and demand (destinations) in the future."
   ]
  },
  {
   "cell_type": "code",
   "execution_count": 5,
   "metadata": {},
   "outputs": [],
   "source": [
    "origins = np.array([80, 150, 140, 160, 180])\n",
    "destinations = np.array([40, 90, 320, 80, 200])"
   ]
  },
  {
   "cell_type": "code",
   "execution_count": 6,
   "metadata": {},
   "outputs": [],
   "source": [
    "sum_destinations = np.sum(destinations)\n",
    "sum_origins = np.sum(origins)\n",
    "\n",
    "if sum_origins != sum_destinations:\n",
    "    scaling_factor = sum_origins / sum_destinations\n",
    "    destinations = destinations * scaling_factor"
   ]
  },
  {
   "cell_type": "code",
   "execution_count": 7,
   "metadata": {},
   "outputs": [
    {
     "data": {
      "text/plain": [
       "array([ 38.90410959,  87.53424658, 311.23287671,  77.80821918,\n",
       "       194.52054795])"
      ]
     },
     "execution_count": 7,
     "metadata": {},
     "output_type": "execute_result"
    }
   ],
   "source": [
    "destinations"
   ]
  },
  {
   "cell_type": "markdown",
   "metadata": {},
   "source": [
    "Adjusts the destination vector to make the total supply equal to the total demand."
   ]
  },
  {
   "cell_type": "code",
   "execution_count": 10,
   "metadata": {},
   "outputs": [],
   "source": [
    "def cost(c_ij):\n",
    "    return 0.05 * exp(-0.2 * (log(c_ij + 1))**2)\n",
    "\n",
    "estimated_costs = np.zeros_like(cost_matrix, dtype=float)\n",
    "\n",
    "for i in range(cost_matrix.shape[0]):\n",
    "    for j in range(cost_matrix.shape[1]):\n",
    "        if i != j:\n",
    "            estimated_costs[i, j] = cost(cost_matrix[i, j])"
   ]
  },
  {
   "cell_type": "markdown",
   "metadata": {},
   "source": [
    "Defines a cost function and estimates transportation costs using this function."
   ]
  },
  {
   "cell_type": "code",
   "execution_count": 11,
   "metadata": {},
   "outputs": [
    {
     "data": {
      "text/plain": [
       "array([[0.        , 0.        , 0.00227089, 0.        , 0.        ],\n",
       "       [0.        , 0.        , 0.00170262, 0.        , 0.        ],\n",
       "       [0.        , 0.        , 0.        , 0.00472832, 0.        ],\n",
       "       [0.00783186, 0.        , 0.00105105, 0.        , 0.00783186],\n",
       "       [0.        , 0.0013204 , 0.00085424, 0.01583215, 0.        ]])"
      ]
     },
     "execution_count": 11,
     "metadata": {},
     "output_type": "execute_result"
    }
   ],
   "source": [
    "estimated_costs"
   ]
  },
  {
   "cell_type": "code",
   "execution_count": 19,
   "metadata": {},
   "outputs": [],
   "source": [
    "def gravity(cost_matrix, origins, destinations):\n",
    "    error = float('inf')\n",
    "    n = len(origins)\n",
    "    factors_origins = np.ones(n)\n",
    "    factors_destinations = np.ones(n)\n",
    "    total_attractiveness = np.sum(origins)\n",
    "    OD = np.zeros_like(cost_matrix, dtype=float)\n",
    "    iterations = 0\n",
    "    error_threshold = 0.01\n",
    "    while error > error_threshold:\n",
    "        for i in range(n):\n",
    "            factors_origins[i] = 1 / (np.sum(factors_destinations * destinations * estimated_costs[i, :]) + 1e-8)\n",
    "\n",
    "        for j in range(n):\n",
    "            factors_destinations[j] = 1 / (np.sum(factors_origins * origins * estimated_costs[:, j]) + 1e-8)\n",
    "\n",
    "        OD = np.outer(factors_origins * origins, factors_destinations * destinations) * estimated_costs\n",
    "\n",
    "        \n",
    "        error = (np.sum(np.abs(origins - np.sum(OD, axis=1))) +\n",
    "                 np.sum(np.abs(destinations - np.sum(OD, axis=0)))) / total_attractiveness\n",
    "        \n",
    "        iterations += 1\n",
    "        if iterations>3000:\n",
    "            break\n",
    "        \n",
    "    OD = pd.DataFrame(OD)\n",
    "    print(f\"Error: {error * 100:.3f}%\")\n",
    "    return OD\n"
   ]
  },
  {
   "cell_type": "markdown",
   "metadata": {},
   "source": [
    "Implements the gravity algorithm to find the optimal distribution of goods between origins and destinations."
   ]
  },
  {
   "cell_type": "markdown",
   "metadata": {},
   "source": [
    "The algorithm iteratively adjusts the attractiveness factors for origins and destinations until the error falls below a threshold."
   ]
  },
  {
   "cell_type": "code",
   "execution_count": 20,
   "metadata": {},
   "outputs": [
    {
     "name": "stdout",
     "output_type": "stream",
     "text": [
      "Error: 20.683%\n"
     ]
    }
   ],
   "source": [
    "result_OD = gravity(cost_matrix, origins, destinations)"
   ]
  },
  {
   "cell_type": "markdown",
   "metadata": {},
   "source": [
    "Calls the gravity function and prints the error."
   ]
  },
  {
   "cell_type": "code",
   "execution_count": 21,
   "metadata": {},
   "outputs": [
    {
     "data": {
      "text/html": [
       "<div>\n",
       "<style scoped>\n",
       "    .dataframe tbody tr th:only-of-type {\n",
       "        vertical-align: middle;\n",
       "    }\n",
       "\n",
       "    .dataframe tbody tr th {\n",
       "        vertical-align: top;\n",
       "    }\n",
       "\n",
       "    .dataframe thead th {\n",
       "        text-align: right;\n",
       "    }\n",
       "</style>\n",
       "<table border=\"1\" class=\"dataframe\">\n",
       "  <thead>\n",
       "    <tr style=\"text-align: right;\">\n",
       "      <th></th>\n",
       "      <th>0</th>\n",
       "      <th>1</th>\n",
       "      <th>2</th>\n",
       "      <th>3</th>\n",
       "      <th>4</th>\n",
       "    </tr>\n",
       "  </thead>\n",
       "  <tbody>\n",
       "    <tr>\n",
       "      <th>0</th>\n",
       "      <td>0.000000</td>\n",
       "      <td>0.000000</td>\n",
       "      <td>7.929653e+01</td>\n",
       "      <td>0.000000</td>\n",
       "      <td>0.000000</td>\n",
       "    </tr>\n",
       "    <tr>\n",
       "      <th>1</th>\n",
       "      <td>0.000000</td>\n",
       "      <td>0.000000</td>\n",
       "      <td>1.482459e+02</td>\n",
       "      <td>0.000000</td>\n",
       "      <td>0.000000</td>\n",
       "    </tr>\n",
       "    <tr>\n",
       "      <th>2</th>\n",
       "      <td>0.000000</td>\n",
       "      <td>0.000000</td>\n",
       "      <td>0.000000e+00</td>\n",
       "      <td>71.006629</td>\n",
       "      <td>0.000000</td>\n",
       "    </tr>\n",
       "    <tr>\n",
       "      <th>3</th>\n",
       "      <td>26.666667</td>\n",
       "      <td>0.000000</td>\n",
       "      <td>1.451602e-12</td>\n",
       "      <td>0.000000</td>\n",
       "      <td>133.333333</td>\n",
       "    </tr>\n",
       "    <tr>\n",
       "      <th>4</th>\n",
       "      <td>0.000000</td>\n",
       "      <td>87.534247</td>\n",
       "      <td>8.369044e+01</td>\n",
       "      <td>6.801590</td>\n",
       "      <td>0.000000</td>\n",
       "    </tr>\n",
       "  </tbody>\n",
       "</table>\n",
       "</div>"
      ],
      "text/plain": [
       "           0          1             2          3           4\n",
       "0   0.000000   0.000000  7.929653e+01   0.000000    0.000000\n",
       "1   0.000000   0.000000  1.482459e+02   0.000000    0.000000\n",
       "2   0.000000   0.000000  0.000000e+00  71.006629    0.000000\n",
       "3  26.666667   0.000000  1.451602e-12   0.000000  133.333333\n",
       "4   0.000000  87.534247  8.369044e+01   6.801590    0.000000"
      ]
     },
     "execution_count": 21,
     "metadata": {},
     "output_type": "execute_result"
    }
   ],
   "source": [
    "result_OD"
   ]
  },
  {
   "cell_type": "markdown",
   "metadata": {},
   "source": [
    "The final OD matrix "
   ]
  },
  {
   "cell_type": "markdown",
   "metadata": {},
   "source": [
    "# Conclusion"
   ]
  },
  {
   "cell_type": "markdown",
   "metadata": {},
   "source": [
    " \n",
    "The code provides a practical implementation of the gravity model, a mathematical model commonly used in logistics and transportation planning. It aims to optimize the flow of trasportation between multiple origins and destinations based on transportation costs and supply-demand constraints. The algorithm iteratively refines the distribution until a satisfactory solution is reached."
   ]
  },
  {
   "cell_type": "markdown",
   "metadata": {},
   "source": [
    "# Q2"
   ]
  },
  {
   "cell_type": "markdown",
   "metadata": {},
   "source": [
    "In instances where there is no movement between two zones, it becomes crucial to designate the travel cost between these zones with a value of either infinity or an exceedingly large figure that effectively approaches infinity. This strategic decision underscores the absence of a direct link or feasible travel route between the specified zones. The allocation of an impractically high cost to travel between these zones serves to convey their lack of practical connectivity within the framework of the employed model, whether it be the Gravity Model. This approach is not limited to the Gravity Model; similar principles are applied in various network analysis and optimization models. It's a way of enforcing the logical constraints of the system being modeled and ensuring that the results align with practical considerations."
   ]
  }
 ],
 "metadata": {
  "kernelspec": {
   "display_name": "Python 3",
   "language": "python",
   "name": "python3"
  },
  "language_info": {
   "codemirror_mode": {
    "name": "ipython",
    "version": 3
   },
   "file_extension": ".py",
   "mimetype": "text/x-python",
   "name": "python",
   "nbconvert_exporter": "python",
   "pygments_lexer": "ipython3",
   "version": "3.8.3"
  }
 },
 "nbformat": 4,
 "nbformat_minor": 4
}
